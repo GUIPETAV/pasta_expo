{
 "cells": [
  {
   "cell_type": "code",
   "execution_count": 1,
   "metadata": {},
   "outputs": [],
   "source": [
    "import pandas as pd \n",
    "from sklearn.model_selection import train_test_split\n",
    "from sklearn.model_selection import cross_val_score, StratifiedKFold\n",
    "\n"
   ]
  },
  {
   "cell_type": "code",
   "execution_count": 2,
   "metadata": {},
   "outputs": [],
   "source": [
    "df1 = pd.read_csv('https://raw.githubusercontent.com/GUIPETAV/pasta_expo/master/df1_trat.csv')# falha de subcarga\n",
    "df2 = pd.read_csv('https://raw.githubusercontent.com/GUIPETAV/pasta_expo/master/df2_trat.csv') # sem falha de subcarga"
   ]
  },
  {
   "cell_type": "code",
   "execution_count": 3,
   "metadata": {},
   "outputs": [],
   "source": [
    "df1 = df1.drop('Datetime', axis=1)\n",
    "\n",
    "df2 = df2.drop('Datetime', axis=1)"
   ]
  },
  {
   "cell_type": "code",
   "execution_count": 4,
   "metadata": {},
   "outputs": [
    {
     "name": "stdout",
     "output_type": "stream",
     "text": [
      "<class 'pandas.core.frame.DataFrame'>\n",
      "RangeIndex: 11688 entries, 0 to 11687\n",
      "Data columns (total 26 columns):\n",
      " #   Column                Non-Null Count  Dtype  \n",
      "---  ------                --------------  -----  \n",
      " 0   RTU_COMP_WATT         11688 non-null  float64\n",
      " 1   RTU_LA_COND_TEMP      11688 non-null  float64\n",
      " 2   RTU_MA_HUM            11688 non-null  float64\n",
      " 3   RTU_MA_TEMP           11688 non-null  float64\n",
      " 4   RTU_OA_HUM            11688 non-null  float64\n",
      " 5   RTU_OA_TEMP           11688 non-null  float64\n",
      " 6   RTU_RA_HUM            11688 non-null  float64\n",
      " 7   RTU_RA_TEMP           11688 non-null  float64\n",
      " 8   RTU_REFG_COND_TEMP_1  11688 non-null  float64\n",
      " 9   RTU_REFG_COND_TEMP_2  11688 non-null  float64\n",
      " 10  RTU_REFG_DISC_PRES_1  11688 non-null  float64\n",
      " 11  RTU_REFG_DISC_PRES_2  11688 non-null  float64\n",
      " 12  RTU_REFG_DISC_TEMP_1  11688 non-null  float64\n",
      " 13  RTU_REFG_DISC_TEMP_2  11688 non-null  float64\n",
      " 14  RTU_REFG_SUCT_PRES_1  11688 non-null  float64\n",
      " 15  RTU_REFG_SUCT_PRES_2  11688 non-null  float64\n",
      " 16  RTU_REFG_SUCT_TEMP_1  11688 non-null  float64\n",
      " 17  RTU_REFG_SUCT_TEMP_2  11688 non-null  float64\n",
      " 18  RTU_SA_FAN_WATT       11688 non-null  float64\n",
      " 19  RTU_SA_FLOW           11688 non-null  float64\n",
      " 20  RTU_SA_HUM            11688 non-null  float64\n",
      " 21  RTU_SA_TEMP           11688 non-null  float64\n",
      " 22  RTU_TOT_WATT          11688 non-null  float64\n",
      " 23  ZA_HUM                11688 non-null  float64\n",
      " 24  ZA_TEMP               11688 non-null  float64\n",
      " 25  Target                11688 non-null  int64  \n",
      "dtypes: float64(25), int64(1)\n",
      "memory usage: 2.3 MB\n"
     ]
    }
   ],
   "source": [
    "df1.info()"
   ]
  },
  {
   "cell_type": "code",
   "execution_count": 5,
   "metadata": {},
   "outputs": [],
   "source": [
    "dados_combinados = pd.concat([df1, df2], ignore_index=True)\n"
   ]
  },
  {
   "cell_type": "code",
   "execution_count": 6,
   "metadata": {},
   "outputs": [],
   "source": [
    "X_train, X_test, y_train, y_test = train_test_split(dados_combinados.drop(['Target'], axis=1), dados_combinados['Target'], test_size=0.25, stratify=dados_combinados['Target'], random_state=27)\n"
   ]
  },
  {
   "cell_type": "code",
   "execution_count": 7,
   "metadata": {},
   "outputs": [
    {
     "name": "stdout",
     "output_type": "stream",
     "text": [
      "Proporção no conjunto de treinamento:\n",
      " Target\n",
      "0    0.897825\n",
      "1    0.102175\n",
      "Name: proportion, dtype: float64\n",
      "Proporção no conjunto de teste:\n",
      " Target\n",
      "0    0.897829\n",
      "1    0.102171\n",
      "Name: proportion, dtype: float64\n"
     ]
    }
   ],
   "source": [
    "proporcao_treino = y_train.value_counts(normalize=True)\n",
    "proporcao_teste = y_test.value_counts(normalize=True)\n",
    "\n",
    "print(\"Proporção no conjunto de treinamento:\\n\", proporcao_treino)\n",
    "print(\"Proporção no conjunto de teste:\\n\", proporcao_teste)\n"
   ]
  },
  {
   "cell_type": "code",
   "execution_count": 8,
   "metadata": {},
   "outputs": [],
   "source": [
    "from sklearn.ensemble import RandomForestClassifier\n",
    "from sklearn.svm import SVC\n",
    "from sklearn.model_selection import cross_val_score, StratifiedKFold\n",
    "import numpy as np\n",
    "\n",
    "\n",
    "# Criar os modelos\n",
    "random_forest_model = RandomForestClassifier(random_state=42)\n",
    "svm_model = SVC(random_state=42)\n",
    "\n",
    "# Criar o objeto de validação cruzada\n",
    "cv = StratifiedKFold(n_splits=5, shuffle=True, random_state=42)\n",
    "\n",
    "# Aplicar validação cruzada para Random Forest\n",
    "resultados_rf = cross_val_score(random_forest_model, X_train, y_train, cv=cv, scoring='accuracy')\n",
    "\n",
    "# Aplicar validação cruzada para SVM\n",
    "resultados_svm = cross_val_score(svm_model, X_train, y_train, cv=cv, scoring='accuracy')\n",
    "\n",
    "# Exibir os resultados\n",
    "print(\"Resultados da validação cruzada para Random Forest:\", resultados_rf)\n",
    "print(\"Média dos resultados para Random Forest:\", np.mean(resultados_rf))\n",
    "\n",
    "print(\"\\nResultados da validação cruzada para SVM:\", resultados_svm)\n",
    "print(\"Média dos resultados para SVM:\", np.mean(resultados_svm))\n"
   ]
  }
 ],
 "metadata": {
  "kernelspec": {
   "display_name": "Python 3",
   "language": "python",
   "name": "python3"
  },
  "language_info": {
   "codemirror_mode": {
    "name": "ipython",
    "version": 3
   },
   "file_extension": ".py",
   "mimetype": "text/x-python",
   "name": "python",
   "nbconvert_exporter": "python",
   "pygments_lexer": "ipython3",
   "version": "3.8.10"
  }
 },
 "nbformat": 4,
 "nbformat_minor": 2
}
